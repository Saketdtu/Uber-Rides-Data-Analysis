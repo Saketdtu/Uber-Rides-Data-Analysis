import pandas as pd
import numpy as np
import matplotlib.pyplot as plt
import seaborn as sns

# Load data
df = pd.read_csv('uber-raw-data-apr14.csv')
df['Date/Time'] = pd.to_datetime(df['Date/Time'])

# Data Cleaning
df = df.dropna()
df['Hour'] = df['Date/Time'].dt.hour
df['Day'] = df['Date/Time'].dt.day
df['Weekday'] = df['Date/Time'].dt.weekday
df['Month'] = df['Date/Time'].dt.month

# Analysis 1: Hourly Demand
hourly = df.groupby('Hour').size()
plt.figure(figsize=(12,6))
sns.lineplot(x=hourly.index, y=hourly.values)
plt.title('Hourly Uber Rides Demand')
plt.xlabel('Hour of Day')
plt.ylabel('Total Rides')
plt.show()

# Analysis 2: Peak Days
daily = df.groupby('Day').size()
plt.figure(figsize=(12,6))
sns.barplot(x=daily.index, y=daily.values)
plt.title('Daily Rides Distribution')
plt.xticks(rotation=45)
plt.show()

# Analysis 3: Geographic Hotspots
plt.figure(figsize=(14,10))
plt.scatter(df['Lon'], df['Lat'], alpha=0.5, s=0.3)
plt.title('Geographic Distribution of Rides')
plt.xlabel('Longitude')
plt.ylabel('Latitude')
plt.show()